{
 "cells": [
  {
   "cell_type": "code",
   "execution_count": 3,
   "metadata": {},
   "outputs": [
    {
     "ename": "ModuleNotFoundError",
     "evalue": "No module named 'pandas'",
     "output_type": "error",
     "traceback": [
      "\u001b[1;31m---------------------------------------------------------------------------\u001b[0m",
      "\u001b[1;31mModuleNotFoundError\u001b[0m                       Traceback (most recent call last)",
      "Cell \u001b[1;32mIn[3], line 3\u001b[0m\n\u001b[0;32m      1\u001b[0m \u001b[38;5;66;03m# import pandas\u001b[39;00m\n\u001b[1;32m----> 3\u001b[0m \u001b[38;5;28;01mimport\u001b[39;00m \u001b[38;5;21;01mpandas\u001b[39;00m \u001b[38;5;28;01mas\u001b[39;00m \u001b[38;5;21;01mpd\u001b[39;00m\n",
      "\u001b[1;31mModuleNotFoundError\u001b[0m: No module named 'pandas'"
     ]
    }
   ],
   "source": [
    "# import pandas\n",
    "\n",
    "import pandas as pd"
   ]
  },
  {
   "cell_type": "code",
   "execution_count": null,
   "metadata": {},
   "outputs": [],
   "source": [
    "# Load Data\n",
    "\n",
    "site_list = pd.read_excel(r\"C:\\Users\\lesli\\github-classroom\\Shell_Excentus_Files\\Shell_Excentus\\Shell_Site_List.xlsx\")\n",
    "monthly_excentus_download = pd.read_excel(r\"C:\\Users\\lesli\\github-classroom\\Shell_Excentus_Files\\Shell_Excentus\\Site_Redeemer_Issuer_Settlement_3160398.xlsx\", skiprows=1)\n",
    "previous_vendor_discount = pd.read_excel(r\"C:\\Users\\lesli\\github-classroom\\Shell_Excentus_Files\\Shell_Excentus\\March_Vendor_Discount.xlsm\"\")"
   ]
  },
  {
   "cell_type": "code",
   "execution_count": null,
   "metadata": {},
   "outputs": [],
   "source": [
    "# Raname Columns\n",
    "\n",
    "site_list.rename(columns={\"Merchant_Id_1\":\"Site ID\"}, inplace=True)"
   ]
  },
  {
   "cell_type": "code",
   "execution_count": null,
   "metadata": {},
   "outputs": [],
   "source": [
    "# Drop specified columns\n",
    "\n",
    "site_list.drop(columns={\"Zip Code\", \"Column1\"}, inplace=True)"
   ]
  },
  {
   "cell_type": "code",
   "execution_count": null,
   "metadata": {},
   "outputs": [],
   "source": [
    "# Convert Site ID to string type\n",
    "\n",
    "site_list[\"Site ID\"] = site_list[\"Site ID\"].astype(str)"
   ]
  },
  {
   "cell_type": "code",
   "execution_count": null,
   "metadata": {},
   "outputs": [],
   "source": [
    "# Drop last two rows with NAN that only show totals\n",
    "\n",
    "monthly_excentus_download.drop(monthly_excentus_download.tail(2).index, inplace=True)"
   ]
  },
  {
   "cell_type": "code",
   "execution_count": null,
   "metadata": {},
   "outputs": [],
   "source": [
    "# Drop specified columns\n",
    "columns_to_drop = [\"Post Date\", \"Site Name\", \"Total Discounted Gallons\", \"Total Discounts Redeemed\", \n",
    "\"Site Funded\", \"Redemption Fee\", \"Issuance Fee\", \"Flat Fee\", \"Program ID\", \"Type\"]\n",
    "monthly_excentus_download.drop(columns=columns_to_drop, inplace=True)"
   ]
  },
  {
   "cell_type": "code",
   "execution_count": null,
   "metadata": {},
   "outputs": [],
   "source": [
    "# Convert Site ID to string type\n",
    "\n",
    "monthly_excentus_download['Site ID'] = monthly_excentus_download['Site ID'].astype(str)"
   ]
  },
  {
   "cell_type": "code",
   "execution_count": null,
   "metadata": {},
   "outputs": [],
   "source": [
    "# Remove .0 from Site ID\n",
    "\n",
    "monthly_excentus_download['Site ID'] = monthly_excentus_download['Site ID'].astype(str).apply(lambda x: x[:-2] if x.endswith('.0') else x)"
   ]
  },
  {
   "cell_type": "code",
   "execution_count": null,
   "metadata": {},
   "outputs": [],
   "source": [
    "# Process previous_vendor_discount :  Rename Column Names Previous Vendor Funded Discount\n",
    "\n",
    "previous_vendor_discount.rename(columns={\"Site ID\": \"Customer Name\", \"Site Name\": \"Customer #\"}, inplace=True)"
   ]
  },
  {
   "cell_type": "code",
   "execution_count": null,
   "metadata": {},
   "outputs": [],
   "source": [
    "# Group monthly excentus by site ID and sum\n",
    "\n",
    "grouped_monthly_excentus = monthly_excentus_download.groupby(\"Site ID\").sum().reset_index()"
   ]
  },
  {
   "cell_type": "code",
   "execution_count": null,
   "metadata": {},
   "outputs": [],
   "source": [
    "# Merge Site List to Grouped Monthly Excentus\n",
    "\n",
    "merged_site_list_excentus = pd.merge(site_list, grouped_monthly_excentus, on= \"Site ID\", how=\"outer\")"
   ]
  },
  {
   "cell_type": "code",
   "execution_count": null,
   "metadata": {},
   "outputs": [],
   "source": [
    "# Sort Grouped Excentus by Customer #\n",
    "sorted_merged_excentus = merged_site_list_excentus.sort_values(by=\"Customer #\")"
   ]
  },
  {
   "cell_type": "code",
   "execution_count": null,
   "metadata": {},
   "outputs": [],
   "source": [
    "# Create New DF for Current Vendor Discount\n",
    "current_vendor_discount = sorted_merged_excentus[[\"Site ID\", \"Customer #\", \"Vendor Funded Discounts\"]]"
   ]
  },
  {
   "cell_type": "code",
   "execution_count": null,
   "metadata": {},
   "outputs": [],
   "source": [
    "# Export vendor_discount_new to Excel\n",
    "\n",
    "current_vendor_discount.to_excel(\"May_Vendor_Funded_Discounts.xlsx\", index=False)"
   ]
  },
  {
   "cell_type": "code",
   "execution_count": null,
   "metadata": {},
   "outputs": [],
   "source": [
    "# Drop Current Month Vendor Funded Discounts\n",
    "\n",
    "current_month_payables_excentus = sorted_merged_excentus.drop(columns=[\"Vendor Funded Discounts\"], inplace=False)"
   ]
  },
  {
   "cell_type": "code",
   "execution_count": null,
   "metadata": {},
   "outputs": [],
   "source": [
    "# Rename columns in Previous Vendor Discount\n",
    "\n",
    "previous_vendor_discount.rename(columns={\"Site Name\": \"Customer #\"}, inplace=True)"
   ]
  },
  {
   "cell_type": "code",
   "execution_count": null,
   "metadata": {},
   "outputs": [],
   "source": [
    "# Drop NAN Rows\n",
    "\n",
    "previous_vendor_discount = previous_vendor_discount.dropna()"
   ]
  },
  {
   "cell_type": "code",
   "execution_count": null,
   "metadata": {},
   "outputs": [],
   "source": [
    "# Merge current_month_payables_excentus with previous_vendor_discount\n",
    "\n",
    "merged_excentus_vd = pd.merge(previous_vendor_discount,current_month_payables_excentus,on=\"Customer #\",how=\"outer\",suffixes=('_new', '_curr'))"
   ]
  },
  {
   "cell_type": "code",
   "execution_count": null,
   "metadata": {},
   "outputs": [],
   "source": [
    "# Fill in NAN with 0 in Vendor Funded Discounts Column\n",
    "\n",
    "merged_excentus_vd[\"Vendor Funded Discounts\"] = merged_excentus_vd[\"Vendor Funded Discounts\"].fillna(0)"
   ]
  },
  {
   "cell_type": "code",
   "execution_count": null,
   "metadata": {},
   "outputs": [],
   "source": [
    "# Round numbers to two decimal points\n",
    "columns_to_round = [\"Vendor Funded Discounts\", \"Total Receivable - Daily\", \"Total Payable - Daily\"]\n",
    "merged_excentus_vd[columns_to_round] = merged_excentus_vd[columns_to_round].round(2)"
   ]
  },
  {
   "cell_type": "code",
   "execution_count": null,
   "metadata": {},
   "outputs": [],
   "source": [
    "# Drop Duplicate Columns\n",
    "\n",
    "merged_excentus_vd_dropped = merged_excentus_vd.drop(\"Customer Name_new\", axis=1, inplace=False)"
   ]
  },
  {
   "cell_type": "code",
   "execution_count": null,
   "metadata": {},
   "outputs": [],
   "source": [
    "# Rename Columns\n",
    "merged_excentus_vd_renamed = merged_excentus_vd_dropped.rename(columns={\"Customer Name_curr\": \"Customer Name\",  \"Total Payable - Daily\": \"Total Payable\"}, inplace=False)"
   ]
  },
  {
   "cell_type": "markdown",
   "metadata": {},
   "source": []
  },
  {
   "cell_type": "code",
   "execution_count": null,
   "metadata": {},
   "outputs": [],
   "source": [
    "# Add Vendor Funded Discount to Total Receivable\n",
    "merged_excentus_vd_renamed[\"Total Receivable\"] = merged_excentus_vd_renamed[\"Total Receivable - Daily\"] + merged_excentus_vd_renamed[\"Vendor Funded Discounts\"]"
   ]
  },
  {
   "cell_type": "code",
   "execution_count": null,
   "metadata": {},
   "outputs": [],
   "source": [
    "# Drop Columns and Create Final Total Sums Sheet\n",
    "columns_to_drop = ['Vendor Funded Discounts', 'Total Receivable - Daily']\n",
    "total_sum_excentus = merged_excentus_vd_renamed.drop(columns=columns_to_drop, inplace=False)\n"
   ]
  },
  {
   "cell_type": "code",
   "execution_count": null,
   "metadata": {},
   "outputs": [],
   "source": [
    "# Reorder Columns for Entry\n",
    "new_order = [\"Site ID\", \"Customer Name\", \"Customer #\", \"Total Receivable\", \"Total Payable\"]\n",
    "pre_mas_entry_excentus = total_sum_excentus[new_order]\n",
    "pre_mas_entry_excentus"
   ]
  },
  {
   "cell_type": "code",
   "execution_count": null,
   "metadata": {},
   "outputs": [],
   "source": [
    "# Calculate totals across numerical columns\n",
    "totals = pre_mas_entry_excentus.select_dtypes(include=[float, int]).sum()\n",
    "totals"
   ]
  },
  {
   "cell_type": "code",
   "execution_count": null,
   "metadata": {},
   "outputs": [],
   "source": [
    "totals_df = pd.DataFrame(totals).T\n",
    "totals_df.index = ['Totals']  # Set index label for the totals row\n",
    "\n",
    "# Concatenate totals_df with pre_mas_entry_excentus\n",
    "df_totals = pd.concat([pre_mas_entry_excentus, totals_df])"
   ]
  },
  {
   "cell_type": "code",
   "execution_count": null,
   "metadata": {},
   "outputs": [],
   "source": [
    "df_totals.to_excel(\"May_2024_Excentus.xlsx\", index=False)\n"
   ]
  }
 ],
 "metadata": {
  "kernelspec": {
   "display_name": "Python 3",
   "language": "python",
   "name": "python3"
  },
  "language_info": {
   "codemirror_mode": {
    "name": "ipython",
    "version": 3
   },
   "file_extension": ".py",
   "mimetype": "text/x-python",
   "name": "python",
   "nbconvert_exporter": "python",
   "pygments_lexer": "ipython3",
   "version": "3.12.4"
  }
 },
 "nbformat": 4,
 "nbformat_minor": 2
}
