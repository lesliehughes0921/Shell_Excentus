{
 "cells": [
  {
   "cell_type": "code",
   "execution_count": 104,
   "metadata": {},
   "outputs": [],
   "source": [
    "# import pandas\n",
    "\n",
    "import pandas as pd"
   ]
  },
  {
   "cell_type": "code",
   "execution_count": 105,
   "metadata": {},
   "outputs": [],
   "source": [
    "# import OS and \"helper fucntion\" based on user's OS system\n",
    "import os\n",
    "\n",
    "def main():\n",
    "\n",
    "    def generate_path(file_name_str):\n",
    "        return os.path.join(\".\", \"data\", file_name_str)\n",
    "    \n",
    "    def generate_output_path(new_file_name_str):\n",
    "        return os.path.join(\".\", \"output_data\", new_file_name_str)\n",
    "    \n",
    "    monthly_excentus_source_df = pd.read_excel(generate_path(\"Site_Redeemer_Issuer_Settlement_3160398.xlsx\"), skiprows=1)\n",
    "    site_list_source_df = pd.read_excel(generate_path(\"Shell_Site_List.xlsx\"))\n",
    "    pre_vendor_discount_source_df = pd.read_excel(generate_path(\"March_Vendor_Discount.xlsm\"))\n"
   ]
  },
  {
   "cell_type": "code",
   "execution_count": 106,
   "metadata": {},
   "outputs": [],
   "source": [
    "# Load Data from Excel Sheets\n",
    "\n",
    "monthly_excentus_source_df = pd.read_excel(\"Site_Redeemer_Issuer_Settlement_3160398.xlsx\", skiprows=1)\n",
    "site_list_source_df = pd.read_excel(\"Shell_Site_List.xlsx\")\n",
    "pre_vendor_discount_source_df = pd.read_excel(\"March_Vendor_Discount.xlsm\")\n"
   ]
  },
  {
   "cell_type": "markdown",
   "metadata": {},
   "source": [
    "Anaysis Monthly Excentus: Merging of data provided in the Site List based on Site ID to the Monthly Excentus report. Renaming columns to ensure that both files have the correct column heading to merge on."
   ]
  },
  {
   "cell_type": "code",
   "execution_count": 107,
   "metadata": {},
   "outputs": [],
   "source": [
    "# Raname Columns\n",
    "\n",
    "renamed_site_list = site_list_source_df.rename(columns={\"Merchant_Id_1\": \"Site ID\"}, inplace=False)\n"
   ]
  },
  {
   "cell_type": "code",
   "execution_count": 108,
   "metadata": {},
   "outputs": [],
   "source": [
    "# Drop specified columns\n",
    "\n",
    "dropped_site_list = renamed_site_list.drop(columns={\"Zip Code\"}, inplace=False)"
   ]
  },
  {
   "cell_type": "code",
   "execution_count": 109,
   "metadata": {},
   "outputs": [],
   "source": [
    "# Convert Site ID to string type\n",
    "\n",
    "final_site_list = dropped_site_list.copy()  \n",
    "final_site_list[\"Site ID\"] = dropped_site_list[\"Site ID\"].astype(str)\n"
   ]
  },
  {
   "cell_type": "code",
   "execution_count": 110,
   "metadata": {},
   "outputs": [],
   "source": [
    "# Drop last two rows with NAN that only show totals\n",
    "\n",
    "dropped_nan_excentus = monthly_excentus_source_df.drop(monthly_excentus_source_df.tail(2).index, inplace=False)"
   ]
  },
  {
   "cell_type": "code",
   "execution_count": 111,
   "metadata": {},
   "outputs": [],
   "source": [
    "# Drop specified columns\n",
    "columns_to_drop = [\"Post Date\", \"Site Name\", \"Total Discounted Gallons\", \"Total Discounts Redeemed\", \n",
    "\"Site Funded\", \"Redemption Fee\", \"Issuance Fee\", \"Flat Fee\", \"Program ID\", \"Type\"]\n",
    "dropped_col_excentus = dropped_nan_excentus.drop(columns=columns_to_drop, inplace=False)"
   ]
  },
  {
   "cell_type": "code",
   "execution_count": 112,
   "metadata": {},
   "outputs": [],
   "source": [
    "# Remove .0 from Site ID\n",
    "final_monthly_excentus = dropped_col_excentus.copy()\n",
    "final_monthly_excentus['Site ID'] = dropped_col_excentus['Site ID'].astype(str).apply(lambda x: x[:-2] if x.endswith('.0') else x)"
   ]
  },
  {
   "cell_type": "code",
   "execution_count": 128,
   "metadata": {},
   "outputs": [],
   "source": [
    "# Process previous_vendor_discount :  Rename Column Names Previous Vendor Funded Discount\n",
    "\n",
    "renamed_pre_vendor_discount = pre_vendor_discount_source_df.rename(columns={\"Site ID\": \"Customer Name\", \"Site Name\": \"Customer #\"}, inplace=False)"
   ]
  },
  {
   "cell_type": "markdown",
   "metadata": {},
   "source": [
    "Analysis Grouping data based on Site ID and calculating the sum for each Customer #"
   ]
  },
  {
   "cell_type": "code",
   "execution_count": 120,
   "metadata": {},
   "outputs": [],
   "source": [
    "# Group monthly excentus by site ID and sum, convert Site ID to type str\n",
    "\n",
    "grouped_monthly_excentus = monthly_excentus_source_df.groupby(\"Site ID\").sum().reset_index().astype(str)"
   ]
  },
  {
   "cell_type": "code",
   "execution_count": 122,
   "metadata": {},
   "outputs": [],
   "source": [
    "# Merge Site List to Grouped Monthly Excentus\n",
    "\n",
    "merged_site_list_excentus = pd.merge(final_site_list, grouped_monthly_excentus, on= \"Site ID\", how=\"outer\")"
   ]
  },
  {
   "cell_type": "code",
   "execution_count": 123,
   "metadata": {},
   "outputs": [],
   "source": [
    "# Sort Grouped Excentus by Customer #\n",
    "sorted_merged_excentus = merged_site_list_excentus.sort_values(by=\"Customer #\")"
   ]
  },
  {
   "cell_type": "markdown",
   "metadata": {},
   "source": [
    "Create new excel sheet for the current vendor discount to be used at a later date to calculate total receivable per customer"
   ]
  },
  {
   "cell_type": "code",
   "execution_count": 124,
   "metadata": {},
   "outputs": [],
   "source": [
    "# Create New DF for Current Vendor Discount\n",
    "current_vendor_discount = sorted_merged_excentus[[\"Site ID\", \"Customer #\", \"Vendor Funded Discounts\"]]"
   ]
  },
  {
   "cell_type": "code",
   "execution_count": 125,
   "metadata": {},
   "outputs": [],
   "source": [
    "# Export vendor_discount_new to Excel\n",
    "\n",
    "current_vendor_discount.to_excel(\"May_Vendor_Funded_Discounts.xlsx\", index=False)"
   ]
  },
  {
   "cell_type": "code",
   "execution_count": 126,
   "metadata": {},
   "outputs": [],
   "source": [
    "# Drop Current Month Vendor Funded Discounts\n",
    "\n",
    "current_month_payables_excentus = sorted_merged_excentus.drop(columns=[\"Vendor Funded Discounts\"], inplace=False)"
   ]
  },
  {
   "cell_type": "code",
   "execution_count": 130,
   "metadata": {},
   "outputs": [],
   "source": [
    "# Drop NAN Rows\n",
    "\n",
    "dropped_nan_previous_vendor_discount = renamed_pre_vendor_discount.dropna()"
   ]
  },
  {
   "cell_type": "code",
   "execution_count": 131,
   "metadata": {},
   "outputs": [],
   "source": [
    "# Merge current_month_payables_excentus with previous_vendor_discount\n",
    "\n",
    "merged_excentus_vd = pd.merge(dropped_nan_previous_vendor_discount,sorted_merged_excentus,on=\"Customer #\",how=\"outer\",suffixes=('_new', '_curr'))"
   ]
  },
  {
   "cell_type": "code",
   "execution_count": null,
   "metadata": {},
   "outputs": [],
   "source": [
    "merged_excentus_vd"
   ]
  },
  {
   "cell_type": "code",
   "execution_count": 132,
   "metadata": {},
   "outputs": [
    {
     "ename": "KeyError",
     "evalue": "'Vendor Funded Discounts'",
     "output_type": "error",
     "traceback": [
      "\u001b[1;31m---------------------------------------------------------------------------\u001b[0m",
      "\u001b[1;31mKeyError\u001b[0m                                  Traceback (most recent call last)",
      "File \u001b[1;32mc:\\Users\\lesli\\github-classroom\\Shell_Excentus_Files\\Shell_Excentus\\venv\\Lib\\site-packages\\pandas\\core\\indexes\\base.py:3805\u001b[0m, in \u001b[0;36mIndex.get_loc\u001b[1;34m(self, key)\u001b[0m\n\u001b[0;32m   3804\u001b[0m \u001b[38;5;28;01mtry\u001b[39;00m:\n\u001b[1;32m-> 3805\u001b[0m     \u001b[38;5;28;01mreturn\u001b[39;00m \u001b[38;5;28;43mself\u001b[39;49m\u001b[38;5;241;43m.\u001b[39;49m\u001b[43m_engine\u001b[49m\u001b[38;5;241;43m.\u001b[39;49m\u001b[43mget_loc\u001b[49m\u001b[43m(\u001b[49m\u001b[43mcasted_key\u001b[49m\u001b[43m)\u001b[49m\n\u001b[0;32m   3806\u001b[0m \u001b[38;5;28;01mexcept\u001b[39;00m \u001b[38;5;167;01mKeyError\u001b[39;00m \u001b[38;5;28;01mas\u001b[39;00m err:\n",
      "File \u001b[1;32mindex.pyx:167\u001b[0m, in \u001b[0;36mpandas._libs.index.IndexEngine.get_loc\u001b[1;34m()\u001b[0m\n",
      "File \u001b[1;32mindex.pyx:196\u001b[0m, in \u001b[0;36mpandas._libs.index.IndexEngine.get_loc\u001b[1;34m()\u001b[0m\n",
      "File \u001b[1;32mpandas\\\\_libs\\\\hashtable_class_helper.pxi:7081\u001b[0m, in \u001b[0;36mpandas._libs.hashtable.PyObjectHashTable.get_item\u001b[1;34m()\u001b[0m\n",
      "File \u001b[1;32mpandas\\\\_libs\\\\hashtable_class_helper.pxi:7089\u001b[0m, in \u001b[0;36mpandas._libs.hashtable.PyObjectHashTable.get_item\u001b[1;34m()\u001b[0m\n",
      "\u001b[1;31mKeyError\u001b[0m: 'Vendor Funded Discounts'",
      "\nThe above exception was the direct cause of the following exception:\n",
      "\u001b[1;31mKeyError\u001b[0m                                  Traceback (most recent call last)",
      "Cell \u001b[1;32mIn[132], line 3\u001b[0m\n\u001b[0;32m      1\u001b[0m \u001b[38;5;66;03m# Fill in NAN with 0 in Vendor Funded Discounts Column\u001b[39;00m\n\u001b[1;32m----> 3\u001b[0m merged_excentus_vd[\u001b[38;5;124m\"\u001b[39m\u001b[38;5;124mVendor Funded Discounts\u001b[39m\u001b[38;5;124m\"\u001b[39m] \u001b[38;5;241m=\u001b[39m \u001b[43mmerged_excentus_vd\u001b[49m\u001b[43m[\u001b[49m\u001b[38;5;124;43m\"\u001b[39;49m\u001b[38;5;124;43mVendor Funded Discounts\u001b[39;49m\u001b[38;5;124;43m\"\u001b[39;49m\u001b[43m]\u001b[49m\u001b[38;5;241m.\u001b[39mfillna(\u001b[38;5;241m0\u001b[39m)\n",
      "File \u001b[1;32mc:\\Users\\lesli\\github-classroom\\Shell_Excentus_Files\\Shell_Excentus\\venv\\Lib\\site-packages\\pandas\\core\\frame.py:4102\u001b[0m, in \u001b[0;36mDataFrame.__getitem__\u001b[1;34m(self, key)\u001b[0m\n\u001b[0;32m   4100\u001b[0m \u001b[38;5;28;01mif\u001b[39;00m \u001b[38;5;28mself\u001b[39m\u001b[38;5;241m.\u001b[39mcolumns\u001b[38;5;241m.\u001b[39mnlevels \u001b[38;5;241m>\u001b[39m \u001b[38;5;241m1\u001b[39m:\n\u001b[0;32m   4101\u001b[0m     \u001b[38;5;28;01mreturn\u001b[39;00m \u001b[38;5;28mself\u001b[39m\u001b[38;5;241m.\u001b[39m_getitem_multilevel(key)\n\u001b[1;32m-> 4102\u001b[0m indexer \u001b[38;5;241m=\u001b[39m \u001b[38;5;28;43mself\u001b[39;49m\u001b[38;5;241;43m.\u001b[39;49m\u001b[43mcolumns\u001b[49m\u001b[38;5;241;43m.\u001b[39;49m\u001b[43mget_loc\u001b[49m\u001b[43m(\u001b[49m\u001b[43mkey\u001b[49m\u001b[43m)\u001b[49m\n\u001b[0;32m   4103\u001b[0m \u001b[38;5;28;01mif\u001b[39;00m is_integer(indexer):\n\u001b[0;32m   4104\u001b[0m     indexer \u001b[38;5;241m=\u001b[39m [indexer]\n",
      "File \u001b[1;32mc:\\Users\\lesli\\github-classroom\\Shell_Excentus_Files\\Shell_Excentus\\venv\\Lib\\site-packages\\pandas\\core\\indexes\\base.py:3812\u001b[0m, in \u001b[0;36mIndex.get_loc\u001b[1;34m(self, key)\u001b[0m\n\u001b[0;32m   3807\u001b[0m     \u001b[38;5;28;01mif\u001b[39;00m \u001b[38;5;28misinstance\u001b[39m(casted_key, \u001b[38;5;28mslice\u001b[39m) \u001b[38;5;129;01mor\u001b[39;00m (\n\u001b[0;32m   3808\u001b[0m         \u001b[38;5;28misinstance\u001b[39m(casted_key, abc\u001b[38;5;241m.\u001b[39mIterable)\n\u001b[0;32m   3809\u001b[0m         \u001b[38;5;129;01mand\u001b[39;00m \u001b[38;5;28many\u001b[39m(\u001b[38;5;28misinstance\u001b[39m(x, \u001b[38;5;28mslice\u001b[39m) \u001b[38;5;28;01mfor\u001b[39;00m x \u001b[38;5;129;01min\u001b[39;00m casted_key)\n\u001b[0;32m   3810\u001b[0m     ):\n\u001b[0;32m   3811\u001b[0m         \u001b[38;5;28;01mraise\u001b[39;00m InvalidIndexError(key)\n\u001b[1;32m-> 3812\u001b[0m     \u001b[38;5;28;01mraise\u001b[39;00m \u001b[38;5;167;01mKeyError\u001b[39;00m(key) \u001b[38;5;28;01mfrom\u001b[39;00m \u001b[38;5;21;01merr\u001b[39;00m\n\u001b[0;32m   3813\u001b[0m \u001b[38;5;28;01mexcept\u001b[39;00m \u001b[38;5;167;01mTypeError\u001b[39;00m:\n\u001b[0;32m   3814\u001b[0m     \u001b[38;5;66;03m# If we have a listlike key, _check_indexing_error will raise\u001b[39;00m\n\u001b[0;32m   3815\u001b[0m     \u001b[38;5;66;03m#  InvalidIndexError. Otherwise we fall through and re-raise\u001b[39;00m\n\u001b[0;32m   3816\u001b[0m     \u001b[38;5;66;03m#  the TypeError.\u001b[39;00m\n\u001b[0;32m   3817\u001b[0m     \u001b[38;5;28mself\u001b[39m\u001b[38;5;241m.\u001b[39m_check_indexing_error(key)\n",
      "\u001b[1;31mKeyError\u001b[0m: 'Vendor Funded Discounts'"
     ]
    }
   ],
   "source": [
    "# Fill in NAN with 0 in Vendor Funded Discounts Column\n",
    "\n",
    "merged_excentus_vd[\"Vendor Funded Discounts\"] = merged_excentus_vd[\"Vendor Funded Discounts\"].fillna(0)"
   ]
  },
  {
   "cell_type": "code",
   "execution_count": null,
   "metadata": {},
   "outputs": [],
   "source": [
    "# Round numbers to two decimal points\n",
    "columns_to_round = [\"Vendor Funded Discounts\", \"Total Receivable - Daily\", \"Total Payable - Daily\"]\n",
    "merged_excentus_vd[columns_to_round] = merged_excentus_vd[columns_to_round].round(2)"
   ]
  },
  {
   "cell_type": "code",
   "execution_count": null,
   "metadata": {},
   "outputs": [],
   "source": [
    "# Drop Duplicate Columns\n",
    "\n",
    "merged_excentus_vd_dropped = merged_excentus_vd.drop(\"Customer Name_new\", axis=1, inplace=False)"
   ]
  },
  {
   "cell_type": "code",
   "execution_count": null,
   "metadata": {},
   "outputs": [],
   "source": [
    "# Rename Columns\n",
    "merged_excentus_vd_renamed = merged_excentus_vd_dropped.rename(columns={\"Customer Name_curr\": \"Customer Name\",  \"Total Payable - Daily\": \"Total Payable\"}, inplace=False)"
   ]
  },
  {
   "cell_type": "code",
   "execution_count": null,
   "metadata": {},
   "outputs": [],
   "source": [
    "# Add Vendor Funded Discount to Total Receivable\n",
    "merged_excentus_vd_renamed[\"Total Receivable\"] = merged_excentus_vd_renamed[\"Total Receivable - Daily\"] + merged_excentus_vd_renamed[\"Vendor Funded Discounts\"]"
   ]
  },
  {
   "cell_type": "code",
   "execution_count": null,
   "metadata": {},
   "outputs": [],
   "source": [
    "# Drop Columns and Create Final Total Sums Sheet\n",
    "columns_to_drop = ['Vendor Funded Discounts', 'Total Receivable - Daily']\n",
    "total_sum_excentus = merged_excentus_vd_renamed.drop(columns=columns_to_drop, inplace=False)\n"
   ]
  },
  {
   "cell_type": "code",
   "execution_count": null,
   "metadata": {},
   "outputs": [],
   "source": [
    "# Reorder Columns for Entry\n",
    "new_order = [\"Site ID\", \"Customer Name\", \"Customer #\", \"Total Receivable\", \"Total Payable\"]\n",
    "pre_mas_entry_excentus = total_sum_excentus[new_order]\n",
    "pre_mas_entry_excentus"
   ]
  },
  {
   "cell_type": "code",
   "execution_count": null,
   "metadata": {},
   "outputs": [],
   "source": [
    "# Calculate totals across numerical columns\n",
    "totals = pre_mas_entry_excentus.select_dtypes(include=[float, int]).sum()\n",
    "totals"
   ]
  },
  {
   "cell_type": "code",
   "execution_count": null,
   "metadata": {},
   "outputs": [],
   "source": [
    "totals_df = pd.DataFrame(totals).T\n",
    "totals_df.index = ['Totals']  # Set index label for the totals row\n",
    "\n",
    "# Concatenate totals_df with pre_mas_entry_excentus\n",
    "df_totals = pd.concat([pre_mas_entry_excentus, totals_df])"
   ]
  },
  {
   "cell_type": "code",
   "execution_count": null,
   "metadata": {},
   "outputs": [],
   "source": [
    "df_totals.to_excel(\"May_2024_Excentus.xlsx\", index=False)\n"
   ]
  }
 ],
 "metadata": {
  "kernelspec": {
   "display_name": "Python 3",
   "language": "python",
   "name": "python3"
  },
  "language_info": {
   "codemirror_mode": {
    "name": "ipython",
    "version": 3
   },
   "file_extension": ".py",
   "mimetype": "text/x-python",
   "name": "python",
   "nbconvert_exporter": "python",
   "pygments_lexer": "ipython3",
   "version": "3.12.4"
  }
 },
 "nbformat": 4,
 "nbformat_minor": 2
}
